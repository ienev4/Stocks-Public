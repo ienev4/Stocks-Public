{
  "nbformat": 4,
  "nbformat_minor": 0,
  "metadata": {
    "colab": {
      "name": "AmazonScraper.ipynb",
      "provenance": [],
      "collapsed_sections": []
    },
    "kernelspec": {
      "name": "python3",
      "display_name": "Python 3"
    },
    "language_info": {
      "name": "python"
    }
  },
  "cells": [
    {
      "cell_type": "code",
      "execution_count": 1,
      "metadata": {
        "id": "dfeqT1ple_pR"
      },
      "outputs": [],
      "source": [
        "# import libraries \n",
        "\n",
        "from bs4 import BeautifulSoup\n",
        "import requests\n",
        "import time\n",
        "import datetime\n",
        "\n",
        "import smtplib"
      ]
    },
    {
      "cell_type": "code",
      "source": [
        "URL = 'https://www.amazon.com/Funny-Data-Systems-Business-Analyst/dp/B07FNW9FGJ/ref=sr_1_3?dchild=1&keywords=data%2Banalyst%2Btshirt&qid=1626655184&sr=8-3&customId=B0752XJYNL&th=1'\n",
        "\n",
        "headers = {\"User-Agent\": \"Mozilla/5.0 (Windows NT 10.0; Win64; x64) AppleWebKit/537.36 (KHTML, like Gecko) Chrome/78.0.3904.108 Safari/537.36\", \"Accept-Encoding\":\"gzip, deflate\", \"Accept\":\"text/html,application/xhtml+xml,application/xml;q=0.9,*/*;q=0.8\", \"DNT\":\"1\",\"Connection\":\"close\", \"Upgrade-Insecure-Requests\":\"1\"}\n",
        "\n",
        "page = requests.get(URL, headers=headers)\n",
        "\n",
        "soup1 = BeautifulSoup(page.content, \"html.parser\")\n",
        "\n",
        "soup2 = BeautifulSoup(soup1.prettify(), \"html.parser\")\n",
        "\n",
        "title = soup2.find(id='productTitle').text.strip()\n",
        "\n",
        "price = float(soup2.find('span',{\"class\":'a-offscreen'}).text.strip()[1:])\n",
        "\n",
        "\n",
        "print(title)\n",
        "print(price)"
      ],
      "metadata": {
        "colab": {
          "base_uri": "https://localhost:8080/"
        },
        "id": "l4JAgC2EfIsX",
        "outputId": "cdb5a062-4e33-41e2-a23e-a3c8e6d38568"
      },
      "execution_count": 170,
      "outputs": [
        {
          "output_type": "stream",
          "name": "stdout",
          "text": [
            "Funny Got Data MIS Data Systems Business Analyst T-Shirt\n",
            "16.99\n"
          ]
        }
      ]
    },
    {
      "cell_type": "code",
      "source": [
        "# Create a Timestamp for your output to track when data was collected\n",
        "\n",
        "import datetime\n",
        "\n",
        "today = datetime.date.today()\n",
        "\n",
        "print(today)"
      ],
      "metadata": {
        "colab": {
          "base_uri": "https://localhost:8080/"
        },
        "id": "0yEMyhqzfYer",
        "outputId": "616757f9-57b4-44b2-d103-8001d7c0887d"
      },
      "execution_count": 35,
      "outputs": [
        {
          "output_type": "stream",
          "name": "stdout",
          "text": [
            "2022-04-03\n"
          ]
        }
      ]
    },
    {
      "cell_type": "code",
      "source": [
        "import csv \n",
        "\n",
        "header = ['Title', 'Price', 'Date']\n",
        "data = [title, price, today]\n",
        "\n",
        "\n",
        "with open('AmazonWebScraper.csv', 'w', newline='', encoding='UTF8') as f:\n",
        "    writer = csv.writer(f)\n",
        "    writer.writerow(header)\n",
        "    writer.writerow(data)\n",
        "    "
      ],
      "metadata": {
        "id": "b_N-4p2wfZVf"
      },
      "execution_count": 36,
      "outputs": []
    },
    {
      "cell_type": "code",
      "source": [
        "import pandas as pd\n",
        "\n",
        "df = pd.read_csv('AmazonWebScraper.csv')\n",
        "\n",
        "print(df)\n",
        "#Now we are appending data to the csv\n",
        "\n",
        "with open('AmazonWebScraperDataset.csv', 'a+', newline='', encoding='UTF8') as f:\n",
        "    writer = csv.writer(f)\n",
        "    writer.writerow(data)"
      ],
      "metadata": {
        "colab": {
          "base_uri": "https://localhost:8080/"
        },
        "id": "n0YO5K-5fdcv",
        "outputId": "f7a11818-238d-4a7e-c5e9-37057cdb605a"
      },
      "execution_count": 38,
      "outputs": [
        {
          "output_type": "stream",
          "name": "stdout",
          "text": [
            "                                               Title  Price        Date\n",
            "0  Funny Got Data MIS Data Systems Business Analy...  16.99  2022-04-03\n"
          ]
        }
      ]
    },
    {
      "cell_type": "code",
      "source": [
        "URL2='https://www.amazon.com/s?k=data+analyst+tshirt&crid=23A3T6K8HCDBU&sprefix=data+analyst+tshirt%2Caps%2C217&ref=nb_sb_noss_1'\n",
        "headers = {\"User-Agent\": \"Mozilla/5.0 (Windows NT 10.0; Win64; x64) AppleWebKit/537.36 (KHTML, like Gecko) Chrome/78.0.3904.108 Safari/537.36\", \"Accept-Encoding\":\"gzip, deflate\", \"Accept\":\"text/html,application/xhtml+xml,application/xml;q=0.9,*/*;q=0.8\", \"DNT\":\"1\",\"Connection\":\"close\", \"Upgrade-Insecure-Requests\":\"1\"}\n",
        "\n",
        "page = requests.get(URL2, headers=headers)\n",
        "\n",
        "soup1 = BeautifulSoup(page.content, \"html.parser\")\n",
        "\n",
        "soup2 = BeautifulSoup(soup1.prettify(), \"html.parser\")\n",
        "\n",
        "title = soup2.find_all('span',{\"class\":'a-size-base-plus a-color-base a-text-normal'})#.text.strip()#[1:]\n",
        "\n",
        "#price = float(soup2.find('span',{\"class\":'a-offscreen'}).text.strip()[1:]) \n",
        "\n",
        "prices=soup2.find_all('span',{\"class\":'a-price'})\n",
        "\n",
        "shirt_titles=[titles.text.strip() for titles in title]\n",
        "shirt_prices=[price.text.strip()[1:] for price in price]"
      ],
      "metadata": {
        "id": "9tV7El6rfO0p"
      },
      "execution_count": 67,
      "outputs": []
    },
    {
      "cell_type": "code",
      "source": [
        "len(shirt_titles),len(shirt_prices)\n",
        "#we are having an issue since some of the products might not have name or price"
      ],
      "metadata": {
        "colab": {
          "base_uri": "https://localhost:8080/"
        },
        "id": "gocvxA6Bm4mO",
        "outputId": "9c9a3b6a-f6a6-4bdd-f905-21ee46eec8f1"
      },
      "execution_count": 74,
      "outputs": [
        {
          "output_type": "execute_result",
          "data": {
            "text/plain": [
              "(60, 68)"
            ]
          },
          "metadata": {},
          "execution_count": 74
        }
      ]
    },
    {
      "cell_type": "code",
      "source": [
        "# test=products[0]\n",
        "# test.find('span',{\"class\":'a-size-base-plus a-color-base a-text-normal'}).text.strip()\n",
        "# float(test.find('span',{\"class\":'a-offscreen'}).text.strip()[1:])"
      ],
      "metadata": {
        "id": "4s1utxNVnqU1"
      },
      "execution_count": 137,
      "outputs": []
    },
    {
      "cell_type": "code",
      "source": [
        "names=[]\n",
        "price_tag=[]\n",
        "ratings=[]\n",
        "products=soup2.find_all('div',{'class':'a-section a-spacing-base a-text-center'})\n",
        "for product in products:\n",
        "  try:\n",
        "    title=product.find('span',{\"class\":'a-size-base-plus a-color-base a-text-normal'}).text.strip()\n",
        "    price=float(product.find('span',{\"class\":'a-offscreen'}).text.strip()[1:])\n",
        "    rating=float(product.find('div',{'class':'a-row a-size-small'}).text.strip()[:3])\n",
        "  except:\n",
        "    title='None'\n",
        "    price=0\n",
        "    rating=0\n",
        "  names.append(title)\n",
        "  price_tag.append(price)\n",
        "  ratings.append(rating)"
      ],
      "metadata": {
        "id": "HkcAezobnXLm"
      },
      "execution_count": 106,
      "outputs": []
    },
    {
      "cell_type": "code",
      "source": [
        "#Creating a new CSV file to store data\n",
        "header = ['Title', 'Price','Rating', 'Date']\n",
        "\n",
        "with open('AmazonScraper.csv', 'w', newline='', encoding='UTF8') as f:\n",
        "    writer = csv.writer(f)\n",
        "    writer.writerow(header)\n",
        "    #writer.writerow(data)\n"
      ],
      "metadata": {
        "id": "kJYtiH_kv1ka"
      },
      "execution_count": 115,
      "outputs": []
    },
    {
      "cell_type": "code",
      "source": [
        "#Now adding new data (for the second iteration this will be important)\n",
        "\n",
        "df = pd.read_csv('AmazonScraper.csv')\n",
        "data = [names, price_tag, ratings]\n",
        "\n",
        "with open('AmazonScraper.csv', 'a+', newline='', encoding='UTF8') as f:\n",
        "    writer = csv.writer(f)\n",
        "    for i in range(len(data[0])):\n",
        "      writer.writerow([data[0][i],data[1][i],data[2][i],today])"
      ],
      "metadata": {
        "id": "wZrmqSHMo40S"
      },
      "execution_count": 133,
      "outputs": []
    },
    {
      "cell_type": "markdown",
      "source": [
        ""
      ],
      "metadata": {
        "id": "_3mRIx15IqAS"
      }
    },
    {
      "cell_type": "markdown",
      "source": [
        "#Everything added alltogether"
      ],
      "metadata": {
        "id": "yGeIwaL1InBJ"
      }
    },
    {
      "cell_type": "code",
      "source": [
        "URL='https://www.amazon.com/s?k=puzzles&crid=1MPPNFV9I1SGC&sprefix=puzzles%2Caps%2C368&ref=nb_sb_noss'\n",
        "\n",
        "headers = {\"User-Agent\": \"Mozilla/5.0 (Windows NT 10.0; Win64; x64) AppleWebKit/537.36 (KHTML, like Gecko) Chrome/78.0.3904.108 Safari/537.36\", \"Accept-Encoding\":\"gzip, deflate\", \"Accept\":\"text/html,application/xhtml+xml,application/xml;q=0.9,*/*;q=0.8\", \"DNT\":\"1\",\"Connection\":\"close\", \"Upgrade-Insecure-Requests\":\"1\"}\n",
        "\n",
        "page = requests.get(URL, headers=headers)\n",
        "\n",
        "soup1 = BeautifulSoup(page.content, \"html.parser\")\n",
        "\n",
        "soup2 = BeautifulSoup(soup1.prettify(), \"html.parser\")\n",
        "names=[]\n",
        "price_tag=[]\n",
        "ratings=[]\n",
        "# a-section a-spacing-base                               \n",
        "products=soup2.find_all('div',{'class':'a-section a-spacing-base'})\n",
        "for product in products:\n",
        "  try:\n",
        "    title=product.find('span',{\"class\":'a-size-base-plus a-color-base a-text-normal'}).text.strip()\n",
        "    price=float(product.find('span',{\"class\":'a-offscreen'}).text.strip()[1:])\n",
        "    rating=float(product.find('div',{'class':'a-row a-size-small'}).text.strip()[:3])\n",
        "  except:\n",
        "    title='None'\n",
        "    price=0\n",
        "    rating=0\n",
        "  names.append(title)\n",
        "  price_tag.append(price)\n",
        "  ratings.append(rating)\n",
        "df = pd.read_csv('AmazonScraper.csv')\n",
        "data = [names, price_tag, ratings]\n",
        "\n",
        "with open('AmazonScraper.csv', 'a+', newline='', encoding='UTF8') as f:\n",
        "    writer = csv.writer(f)\n",
        "    for i in range(len(data[0])):\n",
        "      writer.writerow([data[0][i],data[1][i],data[2][i],today])"
      ],
      "metadata": {
        "id": "Nb3lcRTTnRpK"
      },
      "execution_count": 286,
      "outputs": []
    },
    {
      "cell_type": "code",
      "source": [
        ""
      ],
      "metadata": {
        "id": "0yx-8ICi1hmN"
      },
      "execution_count": 287,
      "outputs": []
    },
    {
      "cell_type": "markdown",
      "source": [
        "#Defining functions so that we can run different products fast"
      ],
      "metadata": {
        "id": "fdLYs1NBIvWB"
      }
    },
    {
      "cell_type": "code",
      "source": [
        ""
      ],
      "metadata": {
        "id": "6cqUf45wl-T0"
      },
      "execution_count": 313,
      "outputs": []
    },
    {
      "cell_type": "code",
      "source": [
        "def custom_search(search_item):\n",
        "  URL=f\"https://www.amazon.com/s?k={str.replace(search_item,' ','+')}&page=2&crid=H91GR4O7XZUF&qid=1649033421&sprefix={str.replace(search_item,' ','+')}%2Caps%2C192&ref=sr_pg_2\"\n",
        "\n",
        "  headers = {\"User-Agent\": \"Mozilla/5.0 (Windows NT 10.0; Win64; x64) AppleWebKit/537.36 (KHTML, like Gecko) Chrome/78.0.3904.108 Safari/537.36\", \"Accept-Encoding\":\"gzip, deflate\", \"Accept\":\"text/html,application/xhtml+xml,application/xml;q=0.9,*/*;q=0.8\", \"DNT\":\"1\",\"Connection\":\"close\", \"Upgrade-Insecure-Requests\":\"1\"}\n",
        "\n",
        "  page = requests.get(URL, headers=headers)\n",
        "\n",
        "  soup1 = BeautifulSoup(page.content, \"html.parser\")\n",
        "\n",
        "  soup2 = BeautifulSoup(soup1.prettify(), \"html.parser\")\n",
        "  names=[]\n",
        "  price_tag=[]\n",
        "  ratings=[]\n",
        "  # a-section a-spacing-base                               \n",
        "  products=soup2.find_all('div',{'class':'s-card-container s-overflow-hidden aok-relative s-expand-height s-include-content-margin s-latency-cf-section s-card-border'})\n",
        "  for product in products:\n",
        "    try:\n",
        "      title=product.find('span',{\"class\":'a-size-base-plus a-color-base a-text-normal'}).text.strip()\n",
        "      price=float(product.find('span',{\"class\":'a-offscreen'}).text.strip()[1:])\n",
        "      rating=float(product.find('div',{'class':'a-row a-size-small'}).text.strip()[:3])\n",
        "    except:\n",
        "      title='None'\n",
        "      price=0\n",
        "      rating=0\n",
        "    names.append(title)\n",
        "    price_tag.append(price)\n",
        "    ratings.append(rating)\n",
        "  df = pd.read_csv('AmazonScraper.csv')\n",
        "  data = [names, price_tag, ratings]\n",
        "  #return data\n",
        "  with open('AmazonScraper.csv', 'a+', newline='', encoding='UTF8') as f:\n",
        "      writer = csv.writer(f)\n",
        "      for i in range(len(data[0])):\n",
        "        writer.writerow([data[0][i],data[1][i],data[2][i],today])\n",
        "custom_search('men shorts')"
      ],
      "metadata": {
        "id": "9Ad1vmciznIV"
      },
      "execution_count": 302,
      "outputs": []
    },
    {
      "cell_type": "code",
      "source": [
        "#additional function that lets us iterate through multiple pages rather than just one\n",
        "def custom_search_pages(search_item,pages):\n",
        "  data=[]\n",
        "  for page in range(1,int(pages+1)):\n",
        "    URL=f\"https://www.amazon.com/s?k={str.replace(search_item,' ','+')}&page={page}&crid=H91GR4O7XZUF&qid=1649033421&sprefix={str.replace(search_item,' ','+')}%2Caps%2C192&ref=sr_pg_{page}\"\n",
        "\n",
        "    headers = {\"User-Agent\": \"Mozilla/5.0 (Windows NT 10.0; Win64; x64) AppleWebKit/537.36 (KHTML, like Gecko) Chrome/78.0.3904.108 Safari/537.36\", \"Accept-Encoding\":\"gzip, deflate\", \"Accept\":\"text/html,application/xhtml+xml,application/xml;q=0.9,*/*;q=0.8\", \"DNT\":\"1\",\"Connection\":\"close\", \"Upgrade-Insecure-Requests\":\"1\"}\n",
        "\n",
        "    page = requests.get(URL, headers=headers)\n",
        "\n",
        "    soup1 = BeautifulSoup(page.content, \"html.parser\")\n",
        "\n",
        "    soup2 = BeautifulSoup(soup1.prettify(), \"html.parser\")\n",
        "    names=[]\n",
        "    price_tag=[]\n",
        "    ratings=[]\n",
        "    # a-section a-spacing-base                               \n",
        "    products=soup2.find_all('div',{'class':'s-card-container s-overflow-hidden aok-relative s-expand-height s-include-content-margin s-latency-cf-section s-card-border'})\n",
        "    for product in products:\n",
        "      try:\n",
        "        title=product.find('span',{\"class\":'a-size-base-plus a-color-base a-text-normal'}).text.strip()\n",
        "        price=float(product.find('span',{\"class\":'a-offscreen'}).text.strip()[1:])\n",
        "        rating=float(product.find('div',{'class':'a-row a-size-small'}).text.strip()[:3])\n",
        "      except:\n",
        "        title='None'\n",
        "        price=0\n",
        "        rating=0\n",
        "      names.append(title)\n",
        "      price_tag.append(price)\n",
        "      ratings.append(rating)\n",
        "    df = pd.read_csv('AmazonScraper.csv')\n",
        "    data = [names, price_tag, ratings]\n",
        "\n",
        "    with open('AmazonScraper.csv', 'a+', newline='', encoding='UTF8') as f:\n",
        "        writer = csv.writer(f)\n",
        "        for i in range(len(data[0])):\n",
        "          writer.writerow([data[0][i],data[1][i],data[2][i],today])\n",
        "#custom_search_pages('men shorts',2)"
      ],
      "metadata": {
        "id": "QXngTdMJGiL4"
      },
      "execution_count": 317,
      "outputs": []
    },
    {
      "cell_type": "code",
      "source": [
        "pd.read_csv('AmazonScraper.csv')"
      ],
      "metadata": {
        "colab": {
          "base_uri": "https://localhost:8080/",
          "height": 423
        },
        "id": "ZJkWse2Q5WaB",
        "outputId": "77c5e533-872c-4436-ab4c-b1ae7b482e15"
      },
      "execution_count": 316,
      "outputs": [
        {
          "output_type": "execute_result",
          "data": {
            "text/plain": [
              "                                                 Title  Price  Rating  \\\n",
              "0                                                 None   0.00     0.0   \n",
              "1    funny data analyst definition data scientist T...  19.99     4.5   \n",
              "2    Funny Got Data MIS Data Systems Business Analy...  16.99     4.8   \n",
              "3    Let's Look At Data - Data Science Statistics D...  19.99     4.7   \n",
              "4    Data Statistics Math Computer Science Shirt An...  15.95     4.8   \n",
              "..                                                 ...    ...     ...   \n",
              "603                        Men's Drawstring Walk Short  15.60     4.4   \n",
              "604  2 Packs Men’s Atheletic Shorts, Black Mens Wor...  10.99     4.3   \n",
              "605          Sport Men's Performance Compression Short   9.00     4.4   \n",
              "606  Men's Swim Trunks with Mesh Liner 4 Pockets Qu...  19.98     4.5   \n",
              "607  Men's 7\" Workout Running Shorts Quick Dry Ligh...  29.99     4.5   \n",
              "\n",
              "           Date  \n",
              "0    2022-04-03  \n",
              "1    2022-04-03  \n",
              "2    2022-04-03  \n",
              "3    2022-04-03  \n",
              "4    2022-04-03  \n",
              "..          ...  \n",
              "603  2022-04-03  \n",
              "604  2022-04-03  \n",
              "605  2022-04-03  \n",
              "606  2022-04-03  \n",
              "607  2022-04-03  \n",
              "\n",
              "[608 rows x 4 columns]"
            ],
            "text/html": [
              "\n",
              "  <div id=\"df-95500749-ce5a-42af-a838-b591b659ab2f\">\n",
              "    <div class=\"colab-df-container\">\n",
              "      <div>\n",
              "<style scoped>\n",
              "    .dataframe tbody tr th:only-of-type {\n",
              "        vertical-align: middle;\n",
              "    }\n",
              "\n",
              "    .dataframe tbody tr th {\n",
              "        vertical-align: top;\n",
              "    }\n",
              "\n",
              "    .dataframe thead th {\n",
              "        text-align: right;\n",
              "    }\n",
              "</style>\n",
              "<table border=\"1\" class=\"dataframe\">\n",
              "  <thead>\n",
              "    <tr style=\"text-align: right;\">\n",
              "      <th></th>\n",
              "      <th>Title</th>\n",
              "      <th>Price</th>\n",
              "      <th>Rating</th>\n",
              "      <th>Date</th>\n",
              "    </tr>\n",
              "  </thead>\n",
              "  <tbody>\n",
              "    <tr>\n",
              "      <th>0</th>\n",
              "      <td>None</td>\n",
              "      <td>0.00</td>\n",
              "      <td>0.0</td>\n",
              "      <td>2022-04-03</td>\n",
              "    </tr>\n",
              "    <tr>\n",
              "      <th>1</th>\n",
              "      <td>funny data analyst definition data scientist T...</td>\n",
              "      <td>19.99</td>\n",
              "      <td>4.5</td>\n",
              "      <td>2022-04-03</td>\n",
              "    </tr>\n",
              "    <tr>\n",
              "      <th>2</th>\n",
              "      <td>Funny Got Data MIS Data Systems Business Analy...</td>\n",
              "      <td>16.99</td>\n",
              "      <td>4.8</td>\n",
              "      <td>2022-04-03</td>\n",
              "    </tr>\n",
              "    <tr>\n",
              "      <th>3</th>\n",
              "      <td>Let's Look At Data - Data Science Statistics D...</td>\n",
              "      <td>19.99</td>\n",
              "      <td>4.7</td>\n",
              "      <td>2022-04-03</td>\n",
              "    </tr>\n",
              "    <tr>\n",
              "      <th>4</th>\n",
              "      <td>Data Statistics Math Computer Science Shirt An...</td>\n",
              "      <td>15.95</td>\n",
              "      <td>4.8</td>\n",
              "      <td>2022-04-03</td>\n",
              "    </tr>\n",
              "    <tr>\n",
              "      <th>...</th>\n",
              "      <td>...</td>\n",
              "      <td>...</td>\n",
              "      <td>...</td>\n",
              "      <td>...</td>\n",
              "    </tr>\n",
              "    <tr>\n",
              "      <th>603</th>\n",
              "      <td>Men's Drawstring Walk Short</td>\n",
              "      <td>15.60</td>\n",
              "      <td>4.4</td>\n",
              "      <td>2022-04-03</td>\n",
              "    </tr>\n",
              "    <tr>\n",
              "      <th>604</th>\n",
              "      <td>2 Packs Men’s Atheletic Shorts, Black Mens Wor...</td>\n",
              "      <td>10.99</td>\n",
              "      <td>4.3</td>\n",
              "      <td>2022-04-03</td>\n",
              "    </tr>\n",
              "    <tr>\n",
              "      <th>605</th>\n",
              "      <td>Sport Men's Performance Compression Short</td>\n",
              "      <td>9.00</td>\n",
              "      <td>4.4</td>\n",
              "      <td>2022-04-03</td>\n",
              "    </tr>\n",
              "    <tr>\n",
              "      <th>606</th>\n",
              "      <td>Men's Swim Trunks with Mesh Liner 4 Pockets Qu...</td>\n",
              "      <td>19.98</td>\n",
              "      <td>4.5</td>\n",
              "      <td>2022-04-03</td>\n",
              "    </tr>\n",
              "    <tr>\n",
              "      <th>607</th>\n",
              "      <td>Men's 7\" Workout Running Shorts Quick Dry Ligh...</td>\n",
              "      <td>29.99</td>\n",
              "      <td>4.5</td>\n",
              "      <td>2022-04-03</td>\n",
              "    </tr>\n",
              "  </tbody>\n",
              "</table>\n",
              "<p>608 rows × 4 columns</p>\n",
              "</div>\n",
              "      <button class=\"colab-df-convert\" onclick=\"convertToInteractive('df-95500749-ce5a-42af-a838-b591b659ab2f')\"\n",
              "              title=\"Convert this dataframe to an interactive table.\"\n",
              "              style=\"display:none;\">\n",
              "        \n",
              "  <svg xmlns=\"http://www.w3.org/2000/svg\" height=\"24px\"viewBox=\"0 0 24 24\"\n",
              "       width=\"24px\">\n",
              "    <path d=\"M0 0h24v24H0V0z\" fill=\"none\"/>\n",
              "    <path d=\"M18.56 5.44l.94 2.06.94-2.06 2.06-.94-2.06-.94-.94-2.06-.94 2.06-2.06.94zm-11 1L8.5 8.5l.94-2.06 2.06-.94-2.06-.94L8.5 2.5l-.94 2.06-2.06.94zm10 10l.94 2.06.94-2.06 2.06-.94-2.06-.94-.94-2.06-.94 2.06-2.06.94z\"/><path d=\"M17.41 7.96l-1.37-1.37c-.4-.4-.92-.59-1.43-.59-.52 0-1.04.2-1.43.59L10.3 9.45l-7.72 7.72c-.78.78-.78 2.05 0 2.83L4 21.41c.39.39.9.59 1.41.59.51 0 1.02-.2 1.41-.59l7.78-7.78 2.81-2.81c.8-.78.8-2.07 0-2.86zM5.41 20L4 18.59l7.72-7.72 1.47 1.35L5.41 20z\"/>\n",
              "  </svg>\n",
              "      </button>\n",
              "      \n",
              "  <style>\n",
              "    .colab-df-container {\n",
              "      display:flex;\n",
              "      flex-wrap:wrap;\n",
              "      gap: 12px;\n",
              "    }\n",
              "\n",
              "    .colab-df-convert {\n",
              "      background-color: #E8F0FE;\n",
              "      border: none;\n",
              "      border-radius: 50%;\n",
              "      cursor: pointer;\n",
              "      display: none;\n",
              "      fill: #1967D2;\n",
              "      height: 32px;\n",
              "      padding: 0 0 0 0;\n",
              "      width: 32px;\n",
              "    }\n",
              "\n",
              "    .colab-df-convert:hover {\n",
              "      background-color: #E2EBFA;\n",
              "      box-shadow: 0px 1px 2px rgba(60, 64, 67, 0.3), 0px 1px 3px 1px rgba(60, 64, 67, 0.15);\n",
              "      fill: #174EA6;\n",
              "    }\n",
              "\n",
              "    [theme=dark] .colab-df-convert {\n",
              "      background-color: #3B4455;\n",
              "      fill: #D2E3FC;\n",
              "    }\n",
              "\n",
              "    [theme=dark] .colab-df-convert:hover {\n",
              "      background-color: #434B5C;\n",
              "      box-shadow: 0px 1px 3px 1px rgba(0, 0, 0, 0.15);\n",
              "      filter: drop-shadow(0px 1px 2px rgba(0, 0, 0, 0.3));\n",
              "      fill: #FFFFFF;\n",
              "    }\n",
              "  </style>\n",
              "\n",
              "      <script>\n",
              "        const buttonEl =\n",
              "          document.querySelector('#df-95500749-ce5a-42af-a838-b591b659ab2f button.colab-df-convert');\n",
              "        buttonEl.style.display =\n",
              "          google.colab.kernel.accessAllowed ? 'block' : 'none';\n",
              "\n",
              "        async function convertToInteractive(key) {\n",
              "          const element = document.querySelector('#df-95500749-ce5a-42af-a838-b591b659ab2f');\n",
              "          const dataTable =\n",
              "            await google.colab.kernel.invokeFunction('convertToInteractive',\n",
              "                                                     [key], {});\n",
              "          if (!dataTable) return;\n",
              "\n",
              "          const docLinkHtml = 'Like what you see? Visit the ' +\n",
              "            '<a target=\"_blank\" href=https://colab.research.google.com/notebooks/data_table.ipynb>data table notebook</a>'\n",
              "            + ' to learn more about interactive tables.';\n",
              "          element.innerHTML = '';\n",
              "          dataTable['output_type'] = 'display_data';\n",
              "          await google.colab.output.renderOutput(dataTable, element);\n",
              "          const docLink = document.createElement('div');\n",
              "          docLink.innerHTML = docLinkHtml;\n",
              "          element.appendChild(docLink);\n",
              "        }\n",
              "      </script>\n",
              "    </div>\n",
              "  </div>\n",
              "  "
            ]
          },
          "metadata": {},
          "execution_count": 316
        }
      ]
    }
  ]
}